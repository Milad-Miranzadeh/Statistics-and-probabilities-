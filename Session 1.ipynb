{
 "cells": [
  {
   "cell_type": "markdown",
   "id": "fee20fe2-88ea-4d92-94cc-8aa3cca84b9d",
   "metadata": {},
   "source": [
    "# Session1-Introduction\n",
    "# Probabilities\n",
    "Probabilities are defined for events. An event is some outcome that we could potentially or hypothetically observe or experience.\n",
    "In mathematical notion, we often write an event with capital letter, for example A is the event that we roll a 4 on a fair six sided die. This event has probability 1/6 so we can write P(A) = 1/6. \n",
    "We might want to represent the numerical result of the die roll as the random variable x, and then:\n",
    "$$P(X=4) = \\frac{1}{6}$$ \n",
    "Probabilities must be between 0 and 1, so for any event A:\n",
    "$$0=< P(A) <= 1$$\n",
    "If we add up the probabilities of all possible events, those probabilities must add to an, so for the rolling die:\n",
    "$$\\sum_{i=1}^{6} P(X=i) = 1$$\n",
    "The complement of an event which is indicated with $A^c$ Means that the event does not happen. Since Probabilities must add to 1, then :\n",
    "$$ P(A^c) = 1-P(A)$$\n",
    "If A and B are two events, the Probability that A or B happens, is the Probability of the union of the events:\n",
    "$$ P(A \\cup B) = P(A) + P(B) - P(A\\cap B)$$\n",
    "In this formula, the $\\cup$ represents $\\textbf {Union}$ and $\\cap$ represents $\\textbf {intersection}$.\n",
    "\n",
    "If a set of events($A_i)$, for $i=1,2,...,m$ Are mutually exclusive (Only one can happen), then:$$\\bigcup_{i=1}^{m} A_i=\\sum_{i=1}^{m}P(A_i)$$\n",
    "# Odds\n",
    "Probabilities can be re-expressed in terms of odds. Suppose that we denote rolling a \"4\" on a fair six sided die as the event A. Then, $P(A)=1/6$. The odds for event A, denote O(A) is defined as odds of event A, is defined below: $$O(A) = \\frac{P(A)}{P(A^c)}$$\n",
    "In this example, O(A) Equals:\n",
    "$$O(A) = \\frac{P(A)}{P(A^c)} = \\frac{(1/6)}{(5/6)} =\\frac {1}{5}$$\n",
    "This can be expressed as 1:5 or 5:1 Odds against. Thus, an event with probability a/b, has the odds of :\n",
    "$$O(X)= P(X)/P(X^c) \\rightarrow O(X)= P(X)/1-P(X)\\rightarrow O(X)= \\frac{(a/b)}{1-(a/b)}$$\n",
    "$$O(X)= \\frac{a}{b-a}$$\n",
    "We can also calculate probabilities from odds. If the event B has a $c:d$, then the Probability of event B is:\n",
    "$$ O(B)= P(B)/1-P(B) \\rightarrow c/d= P(B)/1-P(B) \\rightarrow c-c.P(B)= dP(B)$$\n",
    "$$ P(B).(c+d) = c \\rightarrow P(B)= \\frac{c}{(c+d)}$$\n",
    "# Expectation \n",
    "The expected value of a random variable x is a weighted average of all values of x can take, the weights given by the probabilities of those values. If x can take only a infinite number of values ($x_1$,$x_2$,...,$x_n$), the expected value would be:\n",
    "$$\\bar{x}= \\frac{\\sum_{i=1}^{n} a_i.x_i} {\\sum_{i=1}^{n} a_i} $$\n",
    "if $a_i=P(x=x_i)$:\n",
    "$$\\bar{x} = \\sum_{i=1}^{n} x_i.P(x=x_i)/\\sum_{i=1}^{n} P(x=x_i)$$\n",
    "we know that $\\sum_{i=1}^{n} P(x=x_i)=1$, thus:\n",
    "$$E(x)= \\sum_{i=1}^{n} x_i.P(x=x_i)$$\n",
    "## Example 1\n",
    "The expected value of a fair six-sided die would be\n",
    "$$E(x)= \\sum_{i=1}^{6} i.P(x=i) = \\sum_{i=1}^{6} i.(1/6) \\rightarrow E(x)=(\\frac {1}{6}). (1+2+3+4+5+6) = 3.5$$\n",
    "<div style=\"background-color: #e6f7ff; border-left: 5px solid #007bff; padding: 10px; border-radius: 5px;\">\n",
    "    <strong><span style=\"color: #007bff;\">Info:</span></strong> The die can not achieve this value but if you were rolled the dice many times, the average value would likely \n",
    "</div>"
   ]
  }
 ],
 "metadata": {
  "kernelspec": {
   "display_name": "Python [conda env:base] *",
   "language": "python",
   "name": "conda-base-py"
  },
  "language_info": {
   "codemirror_mode": {
    "name": "ipython",
    "version": 3
   },
   "file_extension": ".py",
   "mimetype": "text/x-python",
   "name": "python",
   "nbconvert_exporter": "python",
   "pygments_lexer": "ipython3",
   "version": "3.12.7"
  }
 },
 "nbformat": 4,
 "nbformat_minor": 5
}
