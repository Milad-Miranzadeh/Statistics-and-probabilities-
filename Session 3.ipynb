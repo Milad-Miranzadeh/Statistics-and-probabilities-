{
 "cells": [
  {
   "cell_type": "markdown",
   "id": "2536ecf6-fd2d-4e21-9d53-1c7d2531944c",
   "metadata": {},
   "source": [
    "# Session 3- Conditional Probability \n",
    "The simple form of Bayes theorem involves 2 district events:\n",
    "$$ P(A|B) = \\frac {P(A\\cap B)}{P(B)}= \\frac {P(B|A).P(A)}{P(B|A).P(A)+P(B|A^c).P(A^c)}$$\n",
    "When there are 3 possible outcomes($A_1, A_2$, and $A_3$), The Bayes theorem expands :\n",
    "$$ P(A_1|B) = \\frac {P(B|A_1).P(A_1)}{P(B|A_1).P(A_1)+P(B|A_2).P(A_2)+P(B|A_3).P(A_3)}$$\n",
    "If we have events ($A_i$,..., $A_m$) from a portion of space and exactly one of the $A_i$'s events happen and they are mutually exclusive We can write the Bayes theorem as:($\\sum_{i=1}^{m} P(A_i)=1 $)\n",
    "$$P(A_1|B)= \\frac {P(B|A_1).P(A_1)}{\\sum_{i=1}^{m} P(B|A_i).P(A_i)}$$ \n"
   ]
  },
  {
   "cell_type": "markdown",
   "id": "df8d19ab-0a33-4bf6-b5c0-2eeaaa5c0322",
   "metadata": {},
   "source": [
    "Bayes theorem is the theoretical underpinning of most of what we do within the Bayesian statistical framework. Conditional probability is when we are trying to consider 2 events that are related to each other. For example, what is the probability of event A given that we know even B happened:\n",
    "\n",
    "In mathematical notation, we demonstrate is as P(A|B). The P(A|B) defined as this:\n",
    "$$P(A|B)= \\frac {P(A\\cap B)}{P(B)} $$\n",
    "## Exmaple\n",
    "Consider a class with 30 students. In this class, there are 9 females. There are 12 students with computer science majors which 4 of them are female. The table of students of this class is:\n",
    "\n",
    "|            | Female| Not Female| Total|\n",
    "|------------|-------| ----------| -----|\n",
    "CS Major     |   4   |     8     |   12 |\n",
    "Not Cs Major |   5   |    13     |   18 |\n",
    "Total        |   9   |     21    |   30 |\n",
    "\n",
    "According to the table, we can say the probability that someone is female is 9 in 30 or:\n",
    "$$ P(F)= \\frac {9}{30}= \\frac {3}{10}$$\n",
    "The probability of someone who is female and study Cs Major is:\n",
    "$$ P(F\\cap CS)= \\frac {4}{30}$$\n",
    "With those data, the probability that someone is female, given that they are a CS major is:\n",
    "$$P(F|CS)=\\frac {P(F\\cap CS)}{P(CS)}=\\frac {2/15}{2/5}=\\frac {1}{3}$$\n",
    "What is the probability of someone who is female given they are not a CS major student:\n",
    "$$P(F|CS^c)= \\frac {P(F\\cap CS^c)}{P(CS^c)}= \\frac {5/30}{18/30}= \\frac {5}{18} $$\n"
   ]
  },
  {
   "cell_type": "markdown",
   "id": "465bf432-35af-4bab-bca5-c4efb75422b2",
   "metadata": {},
   "source": [
    "## Independence \n",
    "In the concept of independence, one event does not depend on the other; when 2 events are independent, we can say:\n",
    "$$P(A|B)= P(A) $$\n",
    "In this scenario, it does not matter whether or not B occurred. If the events are independent, we also have:\n",
    "$$ P(A \\cap B)= P(A).P(B)$$\n",
    "In our example, the probability of being a female given they are computer science is not equal to the marginal probability that they are female, so these two events are not independent and we have:\n",
    "$$ P(F|CS)= 1/3, P(F)= 3/10 \\rightarrow P(F|CS)\\neq P(F)$$\n"
   ]
  },
  {
   "cell_type": "code",
   "execution_count": null,
   "id": "846d17cf-7879-43be-ac9c-2419bba04e4a",
   "metadata": {},
   "outputs": [],
   "source": []
  }
 ],
 "metadata": {
  "kernelspec": {
   "display_name": "Python [conda env:base] *",
   "language": "python",
   "name": "conda-base-py"
  },
  "language_info": {
   "codemirror_mode": {
    "name": "ipython",
    "version": 3
   },
   "file_extension": ".py",
   "mimetype": "text/x-python",
   "name": "python",
   "nbconvert_exporter": "python",
   "pygments_lexer": "ipython3",
   "version": "3.12.7"
  }
 },
 "nbformat": 4,
 "nbformat_minor": 5
}
