{
 "cells": [
  {
   "cell_type": "markdown",
   "id": "d7740754-5604-44f0-a8ba-150cc0fed4b5",
   "metadata": {},
   "source": [
    "# Session 2\n",
    "# Classical and frequentest Probability \n",
    "One way to deal with uncertainty in a more quantified way is to think about probabilities. There are 3 different frameworks under which we can define probabilities:\n",
    "* Classical Framework\n",
    "* Frequentest Framework\n",
    "* Bayesian Framework\n",
    "  \n",
    "Under the **classical** framework, outcomes that are equally likely have equal probabilities, so for a fair six sided die, there are 6 possible outcomes.\n",
    "The classical approach works very well when we have equally likely outcomes.\n",
    "\n",
    "In the **frequentest** framework, requires us to have A hypothetical infinite sequences of event and then we look at the relevant frequency in that sequence.This approach works great when we can define a hypothetical infinite sequences but this approach is objective in how it defines the probabilities.\n",
    "\n",
    "In the **Bayesian** framework, is a personal perspective. Your probability represent your own perspective.It's your measure of uncertainty and it takes into account what you know about a particular problem.\n",
    "\n",
    "**if we ask the probability of the die to be fair?**\n",
    "    \n",
    "    If you have different information than somebody else, your probability of the die to be fair is different than another person's probability."
   ]
  },
  {
   "cell_type": "markdown",
   "id": "8d725c27-0655-45da-abe5-496f7275b23b",
   "metadata": {},
   "source": [
    "## Fair bet\n",
    "We can quantify probabilities by thinking about what is a fair bet. E.g. we want to ask what's the probability of raining tomorrow?\n",
    "Suppose you want to take the bet, if it rains tomorrow, you win 4 Dollar but if it doesn't rain, you loose 1 Dollar. You can think of this as odds of 4 to 1 (4:1).\n",
    "\n",
    "In the case of bet on raining tomorrow:\n",
    "\n",
    "case 1 = If rains $\\rightarrow$ Win 4 Dollar and If no rains no $\\rightarrow$ loose 1 Dollar.\n",
    "\n",
    "case 2 = If rains $\\rightarrow$ loose 4 Dollar and If no rains $\\rightarrow$ win 1 Dollar.\n",
    "$$P(Rain) = \\frac {1}{1+4}=\\frac{1}{5}$$\n",
    "We can see this is a fair bet by looking at the expected value;In case 1, you win 4 Dollar with probability of 1/5 and loose 1 Dollar with Probability of 4/5. In case 2, you win 1 Dollar with probability of 4/5 and loose 4 Dollar with probability of 1/5. Thus;\n",
    "$$ Case 1= E(Bet)= [4.(\\frac{1}{5})] - [1.(\\frac{4}{5})]=0$$\n",
    "$$ Case 2= E(Bet)= [1.(\\frac{4}{5})] - [4.(\\frac{1}{5})]=0$$\n",
    "## Coherence\n",
    "Probabilities must follow all standard rules of probability. If you don't follow all the rules of probability, then you can be **Incoherence** Which leads to a case for someone to construct a series of bets where you are guarantied to loose money. This is refers to as the Dutch book. "
   ]
  },
  {
   "cell_type": "markdown",
   "id": "21e28e73-074f-4279-bf03-2346748d66c2",
   "metadata": {},
   "source": [
    "## Example\n",
    "Suppose your friend offers you a pair of bet;\n",
    "\n",
    "(i). If it rains/overcast, you pay him 4 Dollar, otherwise he pays you 6 Dollar.\n",
    "\n",
    "(ii).If it is sunny, you pay him 5 Dollar, otherwise he pays you 5 Dollar.\n",
    "* Suppose rain, overcast, and sunny are the only events, if you make both bets simultaneously, how much do you win, regardless of the outcome.\n",
    "* Do this bets follow the rules of probabilities or not?, if not, how we can coherent them?\n",
    "### Solution\n",
    "Bet i:\n",
    "\n",
    "Rain or overcast$\\rightarrow$ you pay 4$.\n",
    "\n",
    "Sunny $\\rightarrow$ you get 6$.\n",
    "\n",
    "\n",
    "Bet ii:\n",
    "\n",
    "sunny $\\rightarrow$ you pay 5$.\n",
    "\n",
    "Rain or overcast$\\rightarrow$ you get 5$.\n",
    "\n",
    "* Scenario 1 :Rain or overcast\n",
    "\n",
    "Bet (i) = -4$\n",
    "\n",
    "Bet (ii) = 5$\n",
    "\n",
    "Total payoff = 5-4 = 1$\n",
    "\n",
    "* Scenario 2: Sunny\n",
    "\n",
    "Bet (i) = 6$\n",
    "\n",
    "Bet (ii) = -5$\n",
    "\n",
    "Total Payoff= 6-5 = 1$\n",
    "\n",
    "$E(i)= (-4).(P) + 6(1-P) = 0\\rightarrow -4P + 6P +6 = 0 \\rightarrow P=\\frac{6}{10}$\n",
    "\n",
    "$E(ii) = (-5).(P) + 5(1-P) =0 \\rightarrow -5P - 5P +5 = 0 \\rightarrow P=\\frac{5}{10}$\n",
    "\n",
    "$Sum(probabilities)= P(Rain|overcast) + P(sunny)= \\frac{5}{10} + \\frac{6}{10} = \\frac{11}{10}$ \n",
    "\n",
    "Since the sum of probabilities is not 1, The incoherence creates a **Dutch Book**\n"
   ]
  },
  {
   "cell_type": "code",
   "execution_count": null,
   "id": "2f451dca-68c8-47b3-89af-83fc6a2d7b2a",
   "metadata": {},
   "outputs": [],
   "source": []
  }
 ],
 "metadata": {
  "kernelspec": {
   "display_name": "Python [conda env:base] *",
   "language": "python",
   "name": "conda-base-py"
  },
  "language_info": {
   "codemirror_mode": {
    "name": "ipython",
    "version": 3
   },
   "file_extension": ".py",
   "mimetype": "text/x-python",
   "name": "python",
   "nbconvert_exporter": "python",
   "pygments_lexer": "ipython3",
   "version": "3.12.7"
  }
 },
 "nbformat": 4,
 "nbformat_minor": 5
}
