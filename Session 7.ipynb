{
 "cells": [
  {
   "cell_type": "markdown",
   "id": "ad9da735-86b2-4c85-ab30-0a90fa280643",
   "metadata": {},
   "source": [
    "# Exponential distribution\n",
    "The exponential distribution has $\\lambda$ rate parameter, so;\n",
    "$x\\sim Exp(\\lambda)$\n",
    "These are events that are occurring at a particular rate rate and the exponential is the waiting time between the events. This is particularly true for the events coming from a **Poisson process**. E.g. in the case of bus coming once every minutes. The rate is $\\frac {1}{10}$ \n",
    "> **A Poisson process is a model for counting a series of independent events that occur at a constant average rate over time.**\n",
    "\n",
    "The PDF for this distribution is:\n",
    "$$ f(x|\\lambda)= \\lambda.e^{-\\lambda x}  \\text {  for } x \\geq 0$$\n",
    "$$ E(X)= \\frac {1}{\\lambda}$$\n",
    "$$ Var(x)= \\frac {1}{\\lambda ^ 2}$$\n",
    "The uniform distribution can be uniform on a larger interval. In fact, the endpoint could be unknown. \n",
    "$$ X\\sim U[{\\theta_1},{\\theta_2}] $$\n",
    "$$f(x|{\\theta_1},{\\theta_2})= (\\frac{1}{\\theta_2-\\theta_1}). I_{\\theta_1\\leq x\\leq \\theta_2}(x) $$"
   ]
  },
  {
   "cell_type": "markdown",
   "id": "2f6d48a5-a969-4e14-a486-0702cb9bd056",
   "metadata": {},
   "source": [
    "# Normal distribution\n",
    "Normal distribution also known as the Gaussian distribution.\n",
    "$$X\\sim ({\\mu},{\\sigma^2})$$\n",
    "$$f(x|{\\mu},{\\sigma^2})= \\frac {1}{\\sqrt{2{\\pi}{\\sigma^2}}}.exp[(\\frac{1}{2\\sigma^2}).(x-\\lambda)^2]$$\n",
    "$$ E(x)=\\mu $$\n",
    "$$Var(x)= \\sigma ^2 $$"
   ]
  }
 ],
 "metadata": {
  "kernelspec": {
   "display_name": "Python [conda env:base] *",
   "language": "python",
   "name": "conda-base-py"
  },
  "language_info": {
   "codemirror_mode": {
    "name": "ipython",
    "version": 3
   },
   "file_extension": ".py",
   "mimetype": "text/x-python",
   "name": "python",
   "nbconvert_exporter": "python",
   "pygments_lexer": "ipython3",
   "version": "3.12.7"
  }
 },
 "nbformat": 4,
 "nbformat_minor": 5
}
