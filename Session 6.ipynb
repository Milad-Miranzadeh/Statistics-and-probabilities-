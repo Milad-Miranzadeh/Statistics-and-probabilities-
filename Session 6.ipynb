{
 "cells": [
  {
   "cell_type": "markdown",
   "id": "0320a04f-52b1-4305-b492-98dc08fc2d75",
   "metadata": {},
   "source": [
    "# Uniform Distribution\n",
    "We can define a continuous random variable based on its probability density function (PDF). This PDF is sort of proportional to the probability that the random variable will take a particular value. The key idea is that if you integrate the PDF over an interval, it gives you the probability that the random variable will take a particular value.Let's consider a uniform distribution. When X is distributed uniformly between 0 and 1. It can take any value between 0 and 1 and they are equally likely.\n",
    "$$ X\\sim U[0,1]$$  \n",
    "$$f(x)= \\begin{cases} 1 & \\text{if } x\\in [0,1] \\\\ 0 & \\text{otherwise} \\end{cases} $$\n",
    "We can write this as an indicator function:\n",
    "$$ f(x))= I_{(0\\leq x \\leq 1)}(x)$$\n",
    "$$I_{(0\\leq x \\leq 1)}(x)= \\begin {cases} 1 & \\text{if } x\\in [0,1] \\\\ 0 & \\text{otherwise} \\end{cases} $$ "
   ]
  },
  {
   "cell_type": "markdown",
   "id": "90c59804-749a-4f28-a22f-1d0ce301785b",
   "metadata": {},
   "source": [
    "The uniform distribution is the most simple probability. If we want to calculate the probability of x between 0 and n, we can computed as below:\n",
    "$$ \\int_0^n f(x)\\,dx$$\n",
    "E.g. what is the probability of x between 1 and $\\frac{1}{2}$?\n",
    "$$ \\int_0^\\frac{1}{2} f(x)\\,dx \\rightarrow \\int_0^\\frac{1}{2} \\,dx \\rightarrow \\left[ x \\right]_0^2 \\rightarrow (\\frac{1}{2}-0)=\\frac{1}{2}$$\n",
    "> Since there are an infinite number of possible outcomes, the probability of taking any particular one is going to be 0.\n",
    "## Key rules in PDF\n",
    "1. It is always true that $\\int_{-\\infty}^{+\\infty} f(x)\\,d(x)= 1$\n",
    "2. The densities are all non-negative for all possible values of x.\n",
    "3. The expected value for continuous random variable is :\n",
    "$$ E(x)= \\int_{-\\infty}^{+\\infty}xf(x)\\,dx$$\n",
    "4. The expected value of some function of x, g(x), is\n",
    "$$ E(x)= \\int x.g(x).f(x)\\,dx$$\n",
    "5. If C is a constant\n",
    "$$ E(C.f(x))= C.E(f(x))$$\n",
    "6. $$E([X_1+X_2])= E(x_1)+E(x_2)$$\n",
    "7. If X is independence of Y ($X \\perp Y$)\n",
    "$$ E(X.Y)= E(X).E(Y)$$"
   ]
  },
  {
   "cell_type": "markdown",
   "id": "7db60464-a542-4116-833c-bcd576a08653",
   "metadata": {},
   "source": []
  }
 ],
 "metadata": {
  "kernelspec": {
   "display_name": "Python [conda env:base] *",
   "language": "python",
   "name": "conda-base-py"
  },
  "language_info": {
   "codemirror_mode": {
    "name": "ipython",
    "version": 3
   },
   "file_extension": ".py",
   "mimetype": "text/x-python",
   "name": "python",
   "nbconvert_exporter": "python",
   "pygments_lexer": "ipython3",
   "version": "3.12.7"
  }
 },
 "nbformat": 4,
 "nbformat_minor": 5
}
