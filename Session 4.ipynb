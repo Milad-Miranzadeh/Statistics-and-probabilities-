{
 "cells": [
  {
   "cell_type": "markdown",
   "id": "3099d36a-2501-44d5-b6cf-695bca7043dd",
   "metadata": {},
   "source": [
    "# Session 4- Bayes's theorem \n",
    "Bayes theorem used to reverse the direction of conditioning. Suppose we want to ask what is the probability of P(A|B) but we know it in terms of P(B|A). We can calculate the given probability:\n",
    "$$ P(A|B)= \\frac {P(B|A).P(A)}{P(B|A).P(A)+P(B|A^c).P(A^c)}$$\n",
    "In the example of session 3, we can say P(F|CS) can be translated as the probability of CS majors given that they are female (P(CS|F)), so the probability of P(F|CS) is:\n",
    "$$P(CS|F)= \\frac {P(F|CS).P(CS)}{P(F|CS).P(CS)+P(F|CS^c).P(CS^c)} $$\n",
    "$$ P(CS|F)= \\frac {(1/3).(12/30)}{(1/3).(12/30)+(5/18).(18/30)}= \\frac {4}{9}$$\n",
    "## Example-1\n",
    "The probability of someone test positive given HIV (P(+|HIV)) was 0.977.The probability of someone test negative given they don't have HIV (P(-|HIV)) was 0.926. A study found thta among North Americans, the probability that a north American would have HIV is about 0.0026.\n",
    "If we randomly selected someone from North America and we test them, what is the probability that they actually have HIV, given they've tested positive.\n",
    "\n",
    "## Solution \n",
    "$P(+|HIV)= 0.977, P(-|HIV^c)= 0.926, P(HIV)= 0.0026$\n",
    "In this example, we have to calculate the P(HIV|+):\n",
    "$$ P(HIV|+)= \\frac {P(+|HIV).P(HIV)}{P(+|HIV).P(HIV)+P(+|HIV^c).P(HIV^c)}$$\n",
    "$$P(HIV^c)= 1-P(HIV)$$ AND\n",
    "$$P(-|HIV)= 1-P(-|HIV^c)$$\n",
    "$$P(HIV|+)= \\frac {(0.977).(0.0026)}{(0.977).(0.0026) +(1-0.926).(1-0.0026)}= 0.033$$"
   ]
  },
  {
   "cell_type": "markdown",
   "id": "aff1f74e-6b8a-4e68-b5b9-8b82c087efba",
   "metadata": {},
   "source": [
    "Bayes theorem is an important part of our approach to the Bayesian statistics. We can use it to update our information. We can start with prior beliefs, we'll collect data and we'll conditioned on the data to lead our posterior beliefs. Bayes theorem is The coherent way to update our beliefs. "
   ]
  },
  {
   "cell_type": "markdown",
   "id": "7fcc2b30-b3e6-46b8-b6cd-1bf4b6d7c8c5",
   "metadata": {},
   "source": [
    "## Example-2\n",
    "You have 3 bags, labeled as A, B, and C. The A contains 2 red marbles and 3 blue ones. Bag B contains 5 red marbles and 1 Blue marble. Bag C contains 3 red marbles.\n",
    "|marbles| A| B| C|total|\n",
    "|-------| -| -| -|-----|\n",
    "|Red    |2 | 5| 3| 10  |\n",
    "|blue   |3 | 1| 0| 4   |\n",
    "|total  |5 | 6| 3| 14  |\n",
    "1. If we randomly select on marble out of 3 bags with equal probabilities and then randomly draw marble from that bag, what is the probability that the marble is blue.\n",
    "2. Suppose a bag is randomly selected again (with equal probabilities) but you don't know which bag is. You randomly draw a marble and it's blue, what is the probability that the bag you selected is A?"
   ]
  },
  {
   "cell_type": "markdown",
   "id": "1a7074e1-9479-4bb2-b9f4-fc7fc1aafebb",
   "metadata": {},
   "source": [
    "## Solution\n",
    "1. $$ P(blue) P(blue\\cap A)+ P(blue\\cap B) +(blue\\cap C)$$\n",
    "   $$ P(blue)= P(Blue|A).P(A)+P(Blue|B).P(B)+P(Blue|C).P(C)$$\n",
    "   $$ [(1/3).(3/5)]+[(1/3).(1/6)]+[(1/3).(0)]= \\frac {23}{90}\\approx 0.25 $$\n",
    "2. $$ P(A|blue)= \\frac {P(Blue|A). P(A)}{P(Blue|A). P(A)+ P(Blue|A^c). P(A^c)}$$\n",
    "   $$ P(A|blue)= \\frac {P(Blue|A). P(A)}{P(Blue|A). P(A)+ P(Blue|B). P(B)+  P(Blue|C). P(C)}$$\n",
    "   $$ P(A|blue)= \\frac {(3/5). (1/3)}{(3/5). (1/3)+ (1/6). (1/3)+  (0). (1/3)}= \\frac {18}{23} \\approx 0.78$$"
   ]
  },
  {
   "cell_type": "code",
   "execution_count": null,
   "id": "895c74dc-8b9f-46d3-b315-cb85c290ddd7",
   "metadata": {},
   "outputs": [],
   "source": []
  }
 ],
 "metadata": {
  "kernelspec": {
   "display_name": "Python [conda env:base] *",
   "language": "python",
   "name": "conda-base-py"
  },
  "language_info": {
   "codemirror_mode": {
    "name": "ipython",
    "version": 3
   },
   "file_extension": ".py",
   "mimetype": "text/x-python",
   "name": "python",
   "nbconvert_exporter": "python",
   "pygments_lexer": "ipython3",
   "version": "3.12.7"
  }
 },
 "nbformat": 4,
 "nbformat_minor": 5
}
